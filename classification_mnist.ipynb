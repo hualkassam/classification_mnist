{
 "cells": [
  {
   "cell_type": "markdown",
   "metadata": {},
   "source": [
    "# Coder Hussam Qassim"
   ]
  },
  {
   "cell_type": "markdown",
   "metadata": {},
   "source": [
    "# Fetch the Data"
   ]
  },
  {
   "cell_type": "code",
   "execution_count": 1,
   "metadata": {},
   "outputs": [
    {
     "name": "stdout",
     "output_type": "stream",
     "text": [
      "mnsit:  {'DESCR': 'mldata.org dataset: mnist-original', 'COL_NAMES': ['label', 'data'], 'target': array([ 0.,  0.,  0., ...,  9.,  9.,  9.]), 'data': array([[0, 0, 0, ..., 0, 0, 0],\n",
      "       [0, 0, 0, ..., 0, 0, 0],\n",
      "       [0, 0, 0, ..., 0, 0, 0],\n",
      "       ..., \n",
      "       [0, 0, 0, ..., 0, 0, 0],\n",
      "       [0, 0, 0, ..., 0, 0, 0],\n",
      "       [0, 0, 0, ..., 0, 0, 0]], dtype=uint8)}\n",
      "The data shape:  (70000, 784)\n",
      "The lable shape:  (70000,)\n"
     ]
    }
   ],
   "source": [
    "'''\n",
    "Datasets loaded by Scikit-Learn generally have a similar dictionary structure including:\n",
    "- A DESCR key describing the dataset\n",
    "- A data key containing an array with one row per instance and one column per feature\n",
    "- A target key containing an array with the labels\n",
    "'''\n",
    "from sklearn.datasets import fetch_mldata\n",
    "mnist = fetch_mldata('MNIST original')\n",
    "print('mnsit: ', mnist)\n",
    "x, y = mnist[\"data\"], mnist[\"target\"]\n",
    "print('The data shape: ', x.shape)\n",
    "print('The lable shape: ', y.shape)"
   ]
  },
  {
   "cell_type": "markdown",
   "metadata": {},
   "source": [
    "# Take a peek at one digit from the dataset"
   ]
  },
  {
   "cell_type": "code",
   "execution_count": 2,
   "metadata": {},
   "outputs": [
    {
     "data": {
      "image/png": "[encoded data removed]",
      "text/plain": [
       "<matplotlib.figure.Figure at 0x7fec88024080>"
      ]
     },
     "metadata": {},
     "output_type": "display_data"
    },
    {
     "name": "stdout",
     "output_type": "stream",
     "text": [
      "The lable of x[36000]:  5.0\n"
     ]
    }
   ],
   "source": [
    "%matplotlib inline\n",
    "import matplotlib\n",
    "import matplotlib.pyplot as plt\n",
    "\n",
    "# grab an instance’s feature vector, reshape it to a 28×28 array, and display it using Matplotlib\n",
    "some_digit = x[36000]\n",
    "some_digit_image = some_digit.reshape(28, 28)\n",
    "plt.imshow(some_digit_image, cmap = matplotlib.cm.binary,\n",
    "            interpolation=\"nearest\")\n",
    "plt.axis(\"off\")\n",
    "plt.show()\n",
    "# Print the label\n",
    "print('The lable of x[36000]: ', y[36000])"
   ]
  },
  {
   "cell_type": "markdown",
   "metadata": {},
   "source": [
    "# Split the data into a training set and a test set"
   ]
  },
  {
   "cell_type": "code",
   "execution_count": 3,
   "metadata": {},
   "outputs": [
    {
     "name": "stdout",
     "output_type": "stream",
     "text": [
      "Done..\n"
     ]
    }
   ],
   "source": [
    "# Create the training and the test sets and lables \n",
    "x_train, x_test, y_train, y_test = x[:60000], x[60000:], y[:60000], y[60000:]\n",
    "\n",
    "'''\n",
    "Shuffling the training set; this will guarantee that all cross-validation folds will be similar (youdon’t \n",
    "want one fold to be missing some digits). Moreover, some learning algorithms are sensitive to the order of the\n",
    "training instances, and they perform poorly if they get many similar instances in a row.\n",
    "'''\n",
    "import numpy as np\n",
    "shuffle_index = np.random.permutation(60000)\n",
    "x_train, y_train = x_train[shuffle_index], y_train[shuffle_index]\n",
    "\n",
    "print('Done..')"
   ]
  },
  {
   "cell_type": "markdown",
   "metadata": {},
   "source": [
    "# Training a Binary Classifier"
   ]
  },
  {
   "cell_type": "code",
   "execution_count": 4,
   "metadata": {},
   "outputs": [
    {
     "data": {
      "text/plain": [
       "'\\nLet’s simplify the problem for now and only try to identify one digit — for example, the number 5. This\\n“5-detector” will be an example of a binary classifier, capable of distinguishing between just two classes,\\n5 and not-5. Let’s create the target vectors for this classification task\\n\\ny_train_5 = (y_train == 5) # True for all 5s, False for all other digits.\\ny_test_5 = (y_test == 5)\\n\\n# Using Scikit-Learn’s SGDClassifier class\\nfrom sklearn.linear_model import SGDClassifier\\nsgd_clf = SGDClassifier(random_state=42)\\nsgd_clf.fit(x_train, y_train_5)\\n\\n# Detecting images of the number 5\\nsgd_clf.predict([some_digit])\\n'"
      ]
     },
     "execution_count": 4,
     "metadata": {},
     "output_type": "execute_result"
    }
   ],
   "source": [
    "'''\n",
    "Let’s simplify the problem for now and only try to identify one digit — for example, the number 5. This\n",
    "“5-detector” will be an example of a binary classifier, capable of distinguishing between just two classes,\n",
    "5 and not-5. Let’s create the target vectors for this classification task\n",
    "\n",
    "y_train_5 = (y_train == 5) # True for all 5s, False for all other digits.\n",
    "y_test_5 = (y_test == 5)\n",
    "\n",
    "# Using Scikit-Learn’s SGDClassifier class\n",
    "from sklearn.linear_model import SGDClassifier\n",
    "sgd_clf = SGDClassifier(random_state=42)\n",
    "sgd_clf.fit(x_train, y_train_5)\n",
    "\n",
    "# Detecting images of the number 5\n",
    "sgd_clf.predict([some_digit])\n",
    "'''"
   ]
  },
  {
   "cell_type": "markdown",
   "metadata": {},
   "source": [
    "# Cross-Validation"
   ]
  },
  {
   "cell_type": "code",
   "execution_count": 5,
   "metadata": {},
   "outputs": [
    {
     "data": {
      "text/plain": [
       "'\\ny_train_5 = (y_train == 5) # True for all 5s, False for all other digits.\\ny_test_5 = (y_test == 5)\\n\\nfrom sklearn.linear_model import SGDClassifier\\nsgd_clf = SGDClassifier(random_state=42)\\n\\nfrom sklearn.model_selection import StratifiedKFold\\nfrom sklearn.base import clone\\nskfolds = StratifiedKFold(n_splits=3, random_state=42)\\nfor train_index, test_index in skfolds.split(x_train, y_train_5):\\n    clone_clf = clone(sgd_clf)\\n    x_train_folds = x_train[train_index]\\n    y_train_folds = (y_train_5[train_index])\\n    x_test_fold = x_train[test_index]\\n    y_test_fold = (y_train_5[test_index])\\n    \\n    clone_clf.fit(x_train_folds, y_train_folds)\\n    y_pred = clone_clf.predict(x_test_fold)\\n    n_correct = sum(y_pred == y_test_fold)\\n    print(n_correct / len(y_pred)) # prints 0.9502, 0.96565 and 0.96495\\n\\n# Using cross_val_score()function to evaluate the SGDClassifier model using K-fold cross-validation,with 3 folds\\nfrom sklearn.model_selection import cross_val_score\\ncross_val_score(sgd_clf, x_train, y_train_5, cv=3, scoring=\"accuracy\")\\n'"
      ]
     },
     "execution_count": 5,
     "metadata": {},
     "output_type": "execute_result"
    }
   ],
   "source": [
    "'''\n",
    "Occasionally you will need more control over the cross-validation process than what cross_val_score() and \n",
    "similar functions provide. In these cases, you can implement cross-validation yourself; it is actually fairly\n",
    "straightforward. The following code does roughly the same thing as the preceding cross_val_score() code, \n",
    "and prints the same result.\n",
    "The StratifiedKFold class performs stratified sampling to produce folds that contain a representative ratio of \n",
    "each class. At each iteration the code creates a clone of the classifier, trains that clone on the training \n",
    "folds, and makes predictions on the test fold. Then it counts the number of correct predictions and outputs \n",
    "the ratio of correct predictions.\n",
    "'''\n",
    "'''\n",
    "y_train_5 = (y_train == 5) # True for all 5s, False for all other digits.\n",
    "y_test_5 = (y_test == 5)\n",
    "\n",
    "from sklearn.linear_model import SGDClassifier\n",
    "sgd_clf = SGDClassifier(random_state=42)\n",
    "\n",
    "from sklearn.model_selection import StratifiedKFold\n",
    "from sklearn.base import clone\n",
    "skfolds = StratifiedKFold(n_splits=3, random_state=42)\n",
    "for train_index, test_index in skfolds.split(x_train, y_train_5):\n",
    "    clone_clf = clone(sgd_clf)\n",
    "    x_train_folds = x_train[train_index]\n",
    "    y_train_folds = (y_train_5[train_index])\n",
    "    x_test_fold = x_train[test_index]\n",
    "    y_test_fold = (y_train_5[test_index])\n",
    "    \n",
    "    clone_clf.fit(x_train_folds, y_train_folds)\n",
    "    y_pred = clone_clf.predict(x_test_fold)\n",
    "    n_correct = sum(y_pred == y_test_fold)\n",
    "    print(n_correct / len(y_pred)) # prints 0.9502, 0.96565 and 0.96495\n",
    "\n",
    "# Using cross_val_score()function to evaluate the SGDClassifier model using K-fold cross-validation,with 3 folds\n",
    "from sklearn.model_selection import cross_val_score\n",
    "cross_val_score(sgd_clf, x_train, y_train_5, cv=3, scoring=\"accuracy\")\n",
    "'''"
   ]
  },
  {
   "cell_type": "markdown",
   "metadata": {},
   "source": [
    "# Confusion Matrix"
   ]
  },
  {
   "cell_type": "code",
   "execution_count": 6,
   "metadata": {},
   "outputs": [
    {
     "data": {
      "text/plain": [
       "'\\nJust like the cross_val_score() function, cross_val_predict() performs K-fold cross-validation,\\nbut instead of returning the evaluation scores, it returns the predictions made on each test fold. This means\\nthat you get a clean prediction for each instance in the training set (“clean” meaning that the prediction is\\nmade by a model that never saw the data during training).\\n\\n\\nfrom sklearn.model_selection import cross_val_predict\\ny_train_pred = cross_val_predict(sgd_clf, x_train, y_train_5, cv=3)\\n\\nUsing the confusion_matrix() function. Just pass it the target classes ( y_train_5 ) and the predicted \\nclasses ( y_train_pred )\\n\\nfrom sklearn.metrics import confusion_matrix\\nconfusion_matrix(y_train_5, y_train_pred)\\n'"
      ]
     },
     "execution_count": 6,
     "metadata": {},
     "output_type": "execute_result"
    }
   ],
   "source": [
    "'''\n",
    "Just like the cross_val_score() function, cross_val_predict() performs K-fold cross-validation,\n",
    "but instead of returning the evaluation scores, it returns the predictions made on each test fold. This means\n",
    "that you get a clean prediction for each instance in the training set (“clean” meaning that the prediction is\n",
    "made by a model that never saw the data during training).\n",
    "\n",
    "\n",
    "from sklearn.model_selection import cross_val_predict\n",
    "y_train_pred = cross_val_predict(sgd_clf, x_train, y_train_5, cv=3)\n",
    "\n",
    "Using the confusion_matrix() function. Just pass it the target classes ( y_train_5 ) and the predicted \n",
    "classes ( y_train_pred )\n",
    "\n",
    "from sklearn.metrics import confusion_matrix\n",
    "confusion_matrix(y_train_5, y_train_pred)\n",
    "'''"
   ]
  },
  {
   "cell_type": "markdown",
   "metadata": {},
   "source": [
    "# Precision and Recall"
   ]
  },
  {
   "cell_type": "code",
   "execution_count": 7,
   "metadata": {},
   "outputs": [
    {
     "data": {
      "text/plain": [
       "'\\nNow your 5-detector does not look as shiny as it did when you looked at its accuracy. When it claims an\\nimage represents a 5, it is correct only 77% of the time. Moreover, it only detects 79% of the 5s.\\n\\nfrom sklearn.metrics import precision_score, recall_score\\nprecision_score(y_train_5, y_pred) # 0.76871350203503808\\nrecall_score(y_train_5, y_train_pred) # 0.79136690647482011\\n\\nIt is often convenient to combine precision and recall into a single metric called the F1 score, in particular\\nif you need a simple way to compare two classifiers. The F1 score is the harmonic mean of precision and recall.\\nWhereas the regular mean treats all values equally, the harmonic mean gives much more weight to low values.\\nAs a result, the classifier will only get a high F1 score if both recall and precision are high.\\n\\nfrom sklearn.metrics import f1_score\\nf1_score(y_train_5, y_pred)\\n'"
      ]
     },
     "execution_count": 7,
     "metadata": {},
     "output_type": "execute_result"
    }
   ],
   "source": [
    "'''\n",
    "Now your 5-detector does not look as shiny as it did when you looked at its accuracy. When it claims an\n",
    "image represents a 5, it is correct only 77% of the time. Moreover, it only detects 79% of the 5s.\n",
    "\n",
    "from sklearn.metrics import precision_score, recall_score\n",
    "precision_score(y_train_5, y_pred) # 0.76871350203503808\n",
    "recall_score(y_train_5, y_train_pred) # 0.79136690647482011\n",
    "\n",
    "It is often convenient to combine precision and recall into a single metric called the F1 score, in particular\n",
    "if you need a simple way to compare two classifiers. The F1 score is the harmonic mean of precision and recall.\n",
    "Whereas the regular mean treats all values equally, the harmonic mean gives much more weight to low values.\n",
    "As a result, the classifier will only get a high F1 score if both recall and precision are high.\n",
    "\n",
    "from sklearn.metrics import f1_score\n",
    "f1_score(y_train_5, y_pred)\n",
    "'''"
   ]
  },
  {
   "cell_type": "markdown",
   "metadata": {},
   "source": [
    "# Precision/Recall Tradeoff"
   ]
  },
  {
   "cell_type": "code",
   "execution_count": 8,
   "metadata": {},
   "outputs": [
    {
     "data": {
      "text/plain": [
       "'\\nScikit-Learn does not let you set the threshold directly, but it does give you access to the decision scores\\nthat it uses to make predictions. Instead of calling the classifier’s predict() method, you can call its\\ndecision_function() method, which returns a score for each instance, and then make predictions based\\non those scores using any threshold you want:\\ny_scores = sgd_clf.decision_function([some_digit])\\ny_scores # array([161855.74572176])\\nthreshold = 0\\ny_some_digit_pred = (y_scores > threshold) # array([True], dtype=bool)\\n \\nHow can you decide which threshold to use? For this you will first need to get the scores of all instances in\\nthe training set using the cross_val_predict() function again, but this time specifying that you want it to \\nreturn decision scores instead of predictions\\n\\ny_scores = cross_val_predict(sgd_clf, X_train, y_train_5, cv=3,\\n                            method=\"decision_function\")\\n\\nNow with these scores you can compute precision and recall for all possible thresholds using the\\nprecision_recall_curve() function\\n\\nfrom sklearn.metrics import precision_recall_curve\\nprecisions, recalls, thresholds = precision_recall_curve(y_train_5, y_scores)\\n\\n# Plot precision and recall as functions of the threshold value using Matplotlib\\ndef plot_precision_recall_vs_threshold(precisions, recalls, thresholds):\\n    plt.plot(thresholds, precisions[:-1], \"b--\", label=\"Precision\")\\n    plt.plot(thresholds, recalls[:-1], \"g-\", label=\"Recall\")\\n    plt.xlabel(\"Threshold\")\\n    plt.legend(loc=\"upper left\")\\n    plt.ylim([0, 1])\\n    \\nplot_precision_recall_vs_threshold(precisions,\\trecalls,\\tthresholds)\\nplt.show()\\n'"
      ]
     },
     "execution_count": 8,
     "metadata": {},
     "output_type": "execute_result"
    }
   ],
   "source": [
    "'''\n",
    "Scikit-Learn does not let you set the threshold directly, but it does give you access to the decision scores\n",
    "that it uses to make predictions. Instead of calling the classifier’s predict() method, you can call its\n",
    "decision_function() method, which returns a score for each instance, and then make predictions based\n",
    "on those scores using any threshold you want:\n",
    "y_scores = sgd_clf.decision_function([some_digit])\n",
    "y_scores # array([161855.74572176])\n",
    "threshold = 0\n",
    "y_some_digit_pred = (y_scores > threshold) # array([True], dtype=bool)\n",
    " \n",
    "How can you decide which threshold to use? For this you will first need to get the scores of all instances in\n",
    "the training set using the cross_val_predict() function again, but this time specifying that you want it to \n",
    "return decision scores instead of predictions\n",
    "\n",
    "y_scores = cross_val_predict(sgd_clf, X_train, y_train_5, cv=3,\n",
    "                            method=\"decision_function\")\n",
    "\n",
    "Now with these scores you can compute precision and recall for all possible thresholds using the\n",
    "precision_recall_curve() function\n",
    "\n",
    "from sklearn.metrics import precision_recall_curve\n",
    "precisions, recalls, thresholds = precision_recall_curve(y_train_5, y_scores)\n",
    "\n",
    "# Plot precision and recall as functions of the threshold value using Matplotlib\n",
    "def plot_precision_recall_vs_threshold(precisions, recalls, thresholds):\n",
    "    plt.plot(thresholds, precisions[:-1], \"b--\", label=\"Precision\")\n",
    "    plt.plot(thresholds, recalls[:-1], \"g-\", label=\"Recall\")\n",
    "    plt.xlabel(\"Threshold\")\n",
    "    plt.legend(loc=\"upper left\")\n",
    "    plt.ylim([0, 1])\n",
    "    \n",
    "plot_precision_recall_vs_threshold(precisions,\trecalls,\tthresholds)\n",
    "plt.show()\n",
    "'''"
   ]
  },
  {
   "cell_type": "markdown",
   "metadata": {},
   "source": [
    "# The ROC Curve"
   ]
  },
  {
   "cell_type": "code",
   "execution_count": 9,
   "metadata": {},
   "outputs": [
    {
     "data": {
      "text/plain": [
       "\"\\nThe receiver operating characteristic (ROC) curve is another common tool used with binary classifiers.\\nIt is very similar to the precision/recall curve, but instead of plotting precision versus recall, the ROC\\ncurve plots the true positive rate (another name for recall) against the false positive rate. The FPR is the\\nratio of negative instances that are incorrectly classified as positive. It is equal to one minus the true\\nnegative rate, which is the ratio of negative instances that are correctly classified as negative. The TNR\\nis also called specificity. Hence the ROC curve plots sensitivity (recall) versus 1 – specificity.\\nTo plot the ROC curve, you first need to compute the TPR and FPR for various threshold values, using the\\nroc_curve() function\\n\\nfrom sklearn.metrics import roc_curve\\nfpr, tpr, thresholds = roc_curve(y_train_5, y_scores)\\n\\n# Plot the FPR against the TPR using Matplotlib\\ndef plot_roc_curve(fpr, tpr, label=None):\\n    plt.plot(fpr, tpr, linewidth=2, label=label)\\n    plt.plot([0, 1], [0, 1], 'k--')\\n    plt.axis([0, 1, 0, 1])\\n    plt.xlabel('False Positive Rate')\\n    plt.ylabel('True Positive Rate')\\n    \\nplot_roc_curve(fpr, tpr)\\nplt.show()\\n\\nOnce again there is a tradeoff: the\\thigher the recall (TPR), the more false positives (FPR) the classifier\\nproduces. The dotted line represents the ROC curve of a purely random classifier; a good classifier stays\\nas far away from that line as possible (toward the top-left corner). One way to compare classifiers is to \\nmeasure the area under the curve (AUC). A perfect classifier will have a ROC AUC equal to 1, whereas a purely\\nrandom classifier will have a ROC AUC equal to 0.5. Scikit-Learn provides a function to compute the ROC AUC\\n\\nfrom sklearn.metrics import roc_auc_score\\nroc_auc_score(y_train_5, y_scores)\\n\\nSince the ROC curve is so similar to the precision/recall (or PR) curve, you may wonder how to decide which one\\nto use. As a rule of thumb, you should prefer the PR curve whenever the positive class is rare or when you care\\nmore about the false positives than the false negatives, and the ROC curve otherwise. For example, looking at \\nthe previous ROC curve (and the ROC AUC score), you may think that the classifier is really good. But this is\\nmostly because there are few positives (5s) compared to the negatives (non-5s). In contrast, the PR curve \\nmakes it clear that the classifier has room for improvement (the curve could becloser to the top-right corner)\\n\""
      ]
     },
     "execution_count": 9,
     "metadata": {},
     "output_type": "execute_result"
    }
   ],
   "source": [
    "'''\n",
    "The receiver operating characteristic (ROC) curve is another common tool used with binary classifiers.\n",
    "It is very similar to the precision/recall curve, but instead of plotting precision versus recall, the ROC\n",
    "curve plots the true positive rate (another name for recall) against the false positive rate. The FPR is the\n",
    "ratio of negative instances that are incorrectly classified as positive. It is equal to one minus the true\n",
    "negative rate, which is the ratio of negative instances that are correctly classified as negative. The TNR\n",
    "is also called specificity. Hence the ROC curve plots sensitivity (recall) versus 1 – specificity.\n",
    "To plot the ROC curve, you first need to compute the TPR and FPR for various threshold values, using the\n",
    "roc_curve() function\n",
    "\n",
    "from sklearn.metrics import roc_curve\n",
    "fpr, tpr, thresholds = roc_curve(y_train_5, y_scores)\n",
    "\n",
    "# Plot the FPR against the TPR using Matplotlib\n",
    "def plot_roc_curve(fpr, tpr, label=None):\n",
    "    plt.plot(fpr, tpr, linewidth=2, label=label)\n",
    "    plt.plot([0, 1], [0, 1], 'k--')\n",
    "    plt.axis([0, 1, 0, 1])\n",
    "    plt.xlabel('False Positive Rate')\n",
    "    plt.ylabel('True Positive Rate')\n",
    "    \n",
    "plot_roc_curve(fpr, tpr)\n",
    "plt.show()\n",
    "\n",
    "Once again there is a tradeoff: the\thigher the recall (TPR), the more false positives (FPR) the classifier\n",
    "produces. The dotted line represents the ROC curve of a purely random classifier; a good classifier stays\n",
    "as far away from that line as possible (toward the top-left corner). One way to compare classifiers is to \n",
    "measure the area under the curve (AUC). A perfect classifier will have a ROC AUC equal to 1, whereas a purely\n",
    "random classifier will have a ROC AUC equal to 0.5. Scikit-Learn provides a function to compute the ROC AUC\n",
    "\n",
    "from sklearn.metrics import roc_auc_score\n",
    "roc_auc_score(y_train_5, y_scores)\n",
    "\n",
    "Since the ROC curve is so similar to the precision/recall (or PR) curve, you may wonder how to decide which one\n",
    "to use. As a rule of thumb, you should prefer the PR curve whenever the positive class is rare or when you care\n",
    "more about the false positives than the false negatives, and the ROC curve otherwise. For example, looking at \n",
    "the previous ROC curve (and the ROC AUC score), you may think that the classifier is really good. But this is\n",
    "mostly because there are few positives (5s) compared to the negatives (non-5s). In contrast, the PR curve \n",
    "makes it clear that the classifier has room for improvement (the curve could becloser to the top-right corner)\n",
    "'''"
   ]
  },
  {
   "cell_type": "markdown",
   "metadata": {},
   "source": [
    "# Random Forest Classifier"
   ]
  },
  {
   "cell_type": "code",
   "execution_count": 10,
   "metadata": {},
   "outputs": [
    {
     "data": {
      "image/png": "[encoded data removed]",
      "text/plain": [
       "<matplotlib.figure.Figure at 0x7fec7b93acf8>"
      ]
     },
     "metadata": {},
     "output_type": "display_data"
    },
    {
     "name": "stdout",
     "output_type": "stream",
     "text": [
      "ROC AUC score for the Random Forest Classifier:  0.991607110069\n"
     ]
    }
   ],
   "source": [
    "'''\n",
    "Let’s train a RandomForestClassifier and compare its ROC curve and ROC AUC score to the\n",
    "SGDClassifier. First, you need to get scores for each instance in the training set. But due to the way it works,\n",
    "the RandomForestClassifier class does not have a decision_function() method. Instead it has a predict_proba()\n",
    "method. Scikit-Learn classifiers generally have one or the other. The predict_proba() method returns an array\n",
    "containing a row per instance and a column per class, each containing the probability that the given instance \n",
    "belongs to the given class (e.g., 70% chance that the image represents a 5)\n",
    "'''\n",
    "\n",
    "y_train_5 = (y_train == 5) # True for all 5s, False for all other digits.\n",
    "y_test_5 = (y_test == 5)\n",
    "\n",
    "# Plot the FPR against the TPR using Matplotlib\n",
    "def plot_roc_curve(fpr, tpr, label=None):\n",
    "    plt.plot(fpr, tpr, linewidth=2, label=label)\n",
    "    plt.plot([0, 1], [0, 1], 'k--')\n",
    "    plt.axis([0, 1, 0, 1])\n",
    "    plt.xlabel('False Positive Rate')\n",
    "    plt.ylabel('True Positive Rate')\n",
    "\n",
    "from sklearn.metrics import roc_auc_score\n",
    "from sklearn.metrics import roc_curve\n",
    "from sklearn.model_selection import cross_val_predict\n",
    "from sklearn.ensemble import RandomForestClassifier\n",
    "forest_clf = RandomForestClassifier(random_state=42)\n",
    "y_probas_forest = cross_val_predict(forest_clf, x_train, y_train_5, cv=3,\n",
    "                                    method=\"predict_proba\")\n",
    "\n",
    "'''\n",
    "to plot a ROC curve, you need scores, not probabilities. A simple solution is to use the positive class’s \n",
    "probability as the score\n",
    "'''\n",
    "y_scores_forest = y_probas_forest[:, 1] # score = proba of positive class\n",
    "fpr_forest, tpr_forest, thresholds_forest = roc_curve(y_train_5,y_scores_forest)\n",
    "\n",
    "# Plot the ROC curve. It is useful to plot the first ROC curve as well to see how they compare\n",
    "plot_roc_curve(fpr_forest, tpr_forest, \"Random Forest\")\n",
    "plt.legend(loc=\"lower right\")\n",
    "plt.show()\n",
    "\n",
    "# ROC AUC score\n",
    "print('ROC AUC score for the Random Forest Classifier: ', roc_auc_score(y_train_5, y_scores_forest))"
   ]
  },
  {
   "cell_type": "markdown",
   "metadata": {},
   "source": [
    "# Multiclass Classification"
   ]
  },
  {
   "cell_type": "code",
   "execution_count": 11,
   "metadata": {},
   "outputs": [
    {
     "name": "stdout",
     "output_type": "stream",
     "text": [
      "The cross_val_score accuracy without scaling:  [ 0.94286143  0.94259713  0.93824074]\n",
      "The cross_val_score accuracy with scaling:  [ 0.94291142  0.94264713  0.93834075]\n"
     ]
    }
   ],
   "source": [
    "# Using the cross_val_score() function\n",
    "from sklearn.model_selection import cross_val_score\n",
    "\n",
    "print('The cross_val_score accuracy without scaling: ', cross_val_score(forest_clf, x_train, y_train, \n",
    "                                                                        cv=3, scoring=\"accuracy\")) \n",
    "\n",
    "# Scaling the inputs increases the accuracy\n",
    "from sklearn.preprocessing import StandardScaler\n",
    "scaler = StandardScaler()\n",
    "x_train_scaled = scaler.fit_transform(x_train.astype(np.float64))\n",
    "\n",
    "print('The cross_val_score accuracy with scaling: ', cross_val_score(forest_clf, x_train_scaled, \n",
    "                                                                     y_train, cv=3, scoring=\"accuracy\"))"
   ]
  },
  {
   "cell_type": "markdown",
   "metadata": {},
   "source": [
    "# Error Analysis"
   ]
  },
  {
   "cell_type": "code",
   "execution_count": 12,
   "metadata": {},
   "outputs": [
    {
     "name": "stdout",
     "output_type": "stream",
     "text": [
      "The confusion matrix: \n",
      " [[5797    1   17   18    8   14   26    5   32    5]\n",
      " [   1 6635   26   18   16   13    4    9   12    8]\n",
      " [  53   25 5617   50   44   13   41   42   61   12]\n",
      " [  23   18  139 5642    6  121   10   57   73   42]\n",
      " [  18   21   33    4 5557    8   30   18   25  128]\n",
      " [  62   22   25  199   29 4939   57    5   52   31]\n",
      " [  46   13   24    7   23   61 5711    0   28    5]\n",
      " [  13   36   82   31   59    4    0 5930   19   91]\n",
      " [  35   52  107   95   49  106   38   17 5262   90]\n",
      " [  32   16   37  102  178   48    7   95   46 5388]]\n"
     ]
    },
    {
     "data": {
      "image/png": "[encoded data removed]",
      "text/plain": [
       "<matplotlib.figure.Figure at 0x7fec840d4668>"
      ]
     },
     "metadata": {},
     "output_type": "display_data"
    }
   ],
   "source": [
    "from sklearn.metrics import confusion_matrix\n",
    "from sklearn.model_selection import cross_val_predict\n",
    "\n",
    "y_train_pred = cross_val_predict(forest_clf, x_train_scaled, y_train, cv=3)\n",
    "conf_mx = confusion_matrix(y_train, y_train_pred)\n",
    "print('The confusion matrix: \\n', conf_mx) \n",
    "\n",
    "# It’s more convenient to look at an image representation of the confusion matrix, using Matplotlib’s matshow()\n",
    "plt.matshow(conf_mx, cmap=plt.cm.gray)\n",
    "plt.show()"
   ]
  },
  {
   "cell_type": "code",
   "execution_count": 13,
   "metadata": {},
   "outputs": [
    {
     "data": {
      "image/png": "[encoded data removed]",
      "text/plain": [
       "<matplotlib.figure.Figure at 0x7fec7b650128>"
      ]
     },
     "metadata": {},
     "output_type": "display_data"
    }
   ],
   "source": [
    "'''\n",
    "Let’s focus the plot on the errors. First, you need to divide each value in the confusion matrix by the\n",
    "number of images in the corresponding class, so you can compare error rates instead of absolute numberof \n",
    "errors (which would make abundant classes look unfairly bad)\n",
    "'''\n",
    "row_sums = conf_mx.sum(axis=1, keepdims=True)\n",
    "norm_conf_mx = conf_mx / row_sums\n",
    "\n",
    "# Let’s fill the diagonal with zeros to keep only the errors, and let’s plot the result\n",
    "np.fill_diagonal(norm_conf_mx, 0)\n",
    "plt.matshow(norm_conf_mx, cmap=plt.cm.gray)\n",
    "plt.show()"
   ]
  },
  {
   "cell_type": "markdown",
   "metadata": {},
   "source": [
    "# Multilabel Classification"
   ]
  },
  {
   "cell_type": "code",
   "execution_count": 14,
   "metadata": {},
   "outputs": [
    {
     "name": "stdout",
     "output_type": "stream",
     "text": [
      "The prediction:  [[False  True]]\n"
     ]
    },
    {
     "data": {
      "text/plain": [
       "'\\nThis assumes that all labels are equally important, which may not be the case. In particular, if you have\\nmany more pictures of Alice than of Bob or Charlie, you may want to give more weight to the classifier’s\\nscore on pictures of Alice. One simple option is to give each label a weight equal to its support (i.e., the\\nnumber of instances with that target label). To do this, simply set average=\"weighted\" in the preceding code\\n'"
      ]
     },
     "execution_count": 14,
     "metadata": {},
     "output_type": "execute_result"
    }
   ],
   "source": [
    "'''\n",
    "Until now each instance has always been assigned to just one class. In some cases you may want your classifier \n",
    "to output multiple classes for each instance. For example, consider a face-recognition classifier: what should \n",
    "it do if it recognizes several people on the same picture? Of course it should attach one label per person it \n",
    "recognizes. Say the classifier has been trained to recognize three faces, Alice, Bob, and Charlie; then when \n",
    "it is shown a picture of Alice and Charlie, it should output [1, 0, 1] (meaning “Alice yes, Bob no, Charlie \n",
    "yes”). Such a classification system that outputs multiple binary labels is called a multilabel classification \n",
    "system.\n",
    "'''\n",
    "from sklearn.neighbors import KNeighborsClassifier\n",
    "\n",
    "y_train_large = (y_train >= 7)\n",
    "y_train_odd = (y_train % 2 == 1)\n",
    "y_multilabel = np.c_[y_train_large, y_train_odd]\n",
    "knn_clf = KNeighborsClassifier()\n",
    "knn_clf.fit(x_train, y_multilabel)\n",
    "\n",
    "'''\n",
    "This code creates a y_multilabel array containing two target labels for each digit image: the first indicates \n",
    "whether or not the digit is large (7, 8, or 9) and the second indicates whether or not it is odd. The next \n",
    "lines create a KNeighborsClassifier instance (which supports multilabel classification, but not all classifiers \n",
    "do) and we train it using the multiple targets array. Now you can make a prediction, and notice that it \n",
    "outputs two labels\n",
    "'''\n",
    "print('The prediction: ', knn_clf.predict([some_digit])) \n",
    "\n",
    "'''\n",
    "The digit 5 is indeed not large ( False ) and odd ( True ). There are many ways to evaluate a multilabel \n",
    "classifier, and selecting the right metric really depends on your project. For example, one approach is to \n",
    "measure the F1 score for each individual label (or any other binary classifier metric discussed earlier), \n",
    "then simply compute the average score. This code computes the average F1 score across all labels\n",
    "'''\n",
    "y_train_knn_pred = cross_val_predict(knn_clf, x_train, y_train, cv=3)\n",
    "print('The F1 score: ', f1_score(y_train, y_train_knn_pred, average=\"macro\"))\n",
    "\n",
    "'''\n",
    "This assumes that all labels are equally important, which may not be the case. In particular, if you have\n",
    "many more pictures of Alice than of Bob or Charlie, you may want to give more weight to the classifier’s\n",
    "score on pictures of Alice. One simple option is to give each label a weight equal to its support (i.e., the\n",
    "number of instances with that target label). To do this, simply set average=\"weighted\" in the preceding code\n",
    "'''"
   ]
  },
  {
   "cell_type": "markdown",
   "metadata": {},
   "source": [
    "# Multioutput Classification"
   ]
  },
  {
   "cell_type": "code",
   "execution_count": 21,
   "metadata": {},
   "outputs": [
    {
     "data": {
      "image/png": "[encoded data removed]",
      "text/plain": [
       "<matplotlib.figure.Figure at 0x7f65ebf5c438>"
      ]
     },
     "metadata": {},
     "output_type": "display_data"
    }
   ],
   "source": [
    "'''\n",
    "multioutput-multiclass classification (or simply multioutput classification). It is simply a generalization \n",
    "of multilabel classification where each label can be multiclass (i.e., it can have more than two possible \n",
    "values). To illustrate this, let’s build a system that removes noise from images. It will take as input a noisy \n",
    "digit image, and it will (hopefully) output a clean digit image, represented as an array of pixel intensities, \n",
    "just like the MNIST images. Notice that the classifier’s output is multilabel (one label per pixel) and each \n",
    "label can have multiple values (pixel intensity ranges from 0 to 255).\n",
    "'''\n",
    "'''\n",
    "Let’s start by creating the training and test sets by taking the MNIST images and adding noise to their pixel\n",
    "intensities using NumPy’s randint() function. The target images will be the original images\n",
    "'''\n",
    "def plot_digit(data):\n",
    "    image = data.reshape(28, 28)\n",
    "    plt.imshow(image, cmap = matplotlib.cm.binary,\n",
    "               interpolation=\"nearest\")\n",
    "    plt.axis(\"off\")\n",
    "\n",
    "noise_train = np.random.randint(0, 100, (len(x_train), 784))\n",
    "noise_test = np.random.randint(0, 100, (len(x_test), 784))\n",
    "x_train_mod = x_train + noise_train\n",
    "x_test_mod = x_test + noise_test\n",
    "y_train_mod = x_train\n",
    "y_test_mod = x_test\n",
    "\n",
    "# let’s train the classifier and make it clean this image\n",
    "some_index = 5500\n",
    "knn_clf.fit(x_train_mod, y_train_mod)\n",
    "clean_digit = knn_clf.predict([x_test_mod[some_index]])\n",
    "plot_digit(clean_digit)\n"
   ]
  }
 ],
 "metadata": {
  "kernelspec": {
   "display_name": "Python 3",
   "language": "python",
   "name": "python3"
  },
  "language_info": {
   "codemirror_mode": {
    "name": "ipython",
    "version": 3
   },
   "file_extension": ".py",
   "mimetype": "text/x-python",
   "name": "python",
   "nbconvert_exporter": "python",
   "pygments_lexer": "ipython3",
   "version": "3.6.1"
  }
 },
 "nbformat": 4,
 "nbformat_minor": 2
}
